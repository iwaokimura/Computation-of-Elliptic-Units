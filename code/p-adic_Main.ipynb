{
 "cells": [
  {
   "cell_type": "code",
   "execution_count": null,
   "metadata": {
    "scrolled": true
   },
   "outputs": [],
   "source": [
    "\"\"\"To initialize, specify:\n",
    "p: prime for the p-adic calculations.\n",
    "N: Defines the unit used for computation. In this code we implemented the units\n",
    "    N=4        - [4]-3[2]+2[1]\n",
    "    N is prime - [N]-N[1]\n",
    "M: p-adic precision. Ideally this value is at least 100.\n",
    "\"\"\"\n",
    "p = 3\n",
    "N = 2\n",
    "M = 100\n",
    "\n",
    "%run Miscellaneous.ipynb\n",
    "S = Qp(p, prec = 2*M+1, type = 'capped-rel', print_mode = 'series')\t#Defines the padic ring of rationals, with specified precision.\n",
    "R.<y> = PowerSeriesRing(S, sparse=True)\t#Allows us to write polynomials in y with coefficients in S.\n",
    "\n",
    "\"\"\"Checks to see if a file exists with the necessary dictionaries of integrals given p, N, M\n",
    "If so, loads the integrals from those files to save time.\n",
    "Otherwise, runs algorithms 4_2a and 4_2b to calculate those integrals\n",
    "Note that especially depending on M, this may take several hours.\"\"\"\n",
    "\n",
    "\"\"\"WARNING: Do not terminate process when integrals are being loaded. Else the file storing the integrals will be erased.\"\"\"\n",
    "integral_1, integral_2, integral_3, integral_4 = getIntegrals(p,N,M)"
   ]
  },
  {
   "cell_type": "code",
   "execution_count": null,
   "metadata": {
    "scrolled": true
   },
   "outputs": [],
   "source": [
    "\"\"\"Find discriminants D such that (D/p)=-1, (D/N)=1, D=1(mod 4) when N is prime and =1(mod 8) when N=4\"\"\"\n",
    "Ds = getGoodDs(N,p,1000)\n",
    "\n",
    "\"\"\"For each fundamental discriminant, calculate polynomial\"\"\"\n",
    "for D in Ds:\n",
    "    getPoly(D, N, integral_1, integral_2, integral_3, integral_4)"
   ]
  },
  {
   "cell_type": "markdown",
   "metadata": {},
   "source": [
    "##### "
   ]
  }
 ],
 "metadata": {
  "kernelspec": {
   "display_name": "SageMath 9.0",
   "language": "sage",
   "name": "sagemath"
  },
  "language_info": {
   "codemirror_mode": {
    "name": "ipython",
    "version": 3
   },
   "file_extension": ".py",
   "mimetype": "text/x-python",
   "name": "python",
   "nbconvert_exporter": "python",
   "pygments_lexer": "ipython3",
   "version": "3.7.3"
  }
 },
 "nbformat": 4,
 "nbformat_minor": 2
}
