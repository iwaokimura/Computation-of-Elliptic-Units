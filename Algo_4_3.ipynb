{
 "cells": [
  {
   "cell_type": "markdown",
   "metadata": {},
   "source": [
    "**Algorithm 4.3** Putting it all together"
   ]
  },
  {
   "cell_type": "code",
   "execution_count": 3,
   "metadata": {},
   "outputs": [],
   "source": [
    "\"\"\"Paper referenced: https://services.math.duke.edu/~dasgupta/papers/comp.pdf\"\"\"\n",
    "import sympy,math, gmpy2\n",
    "\n",
    "# p = 3\n",
    "# N = 4\n",
    "# M = 10\n",
    "\n",
    "%run Algo_4_2a.ipynb\n",
    "%run Algo_4_2b.ipynb\n",
    "%run Basis.ipynb\n",
    "\n",
    "\n",
    "# f = fEqnlogApprox35(p,M).polynomial()\n",
    "# integral_ii = integral_ii_dict(p,N,M)\n",
    "# integral_iv = integral_iv_dict(p,N,M)\n",
    "# integral_iii = integral_iii_dict(f,p,N,M)\n",
    "# integral_i = integral_i_dict(f,p,N,M)\n",
    "\n",
    "S = Qp(p, prec = M+1, type = 'capped-rel', print_mode = 'series')\t#Defines the padic ring of rationals, with specified precision.\n",
    "R.<y> = PowerSeriesRing(S)\t#Allows us to write polynomials in y with coefficients in S."
   ]
  },
  {
   "cell_type": "markdown",
   "metadata": {},
   "source": [
    "**Step 1** Calculate ord_p u(alpha,tau)"
   ]
  },
  {
   "cell_type": "code",
   "execution_count": 6,
   "metadata": {},
   "outputs": [
    {
     "name": "stdout",
     "output_type": "stream",
     "text": [
      "63\n"
     ]
    }
   ],
   "source": [
    "def order_p(p,N,a,c):\n",
    "    \"\"\"D is just D_{1,1}. alpha denotes the equation N[1]-[N]\"\"\"\n",
    "    order = -N*genDedekind(1,1,a,N*c)+genDedekind(1,1,a,c)\n",
    "    if order == round(order):\n",
    "        return int(order)\n",
    "    return 12*order\n",
    "\n",
    "# for a in range(11):\n",
    "#     for c in range(4):\n",
    "#         print(order_p(p,N,a,c))\n",
    "# print(order_p(3,4,1567,928*2))"
   ]
  },
  {
   "cell_type": "markdown",
   "metadata": {},
   "source": [
    "**Step 2** Calculate log_beta "
   ]
  },
  {
   "cell_type": "code",
   "execution_count": null,
   "metadata": {},
   "outputs": [],
   "source": [
    "def rhsOfEqn44(a,c,u,v,p,N):\n",
    "    \"\"\"Prop 3.2 but s=1\n",
    "    Checked: It always returns an integer.\n",
    "    Returns u([infty] - [a/Nc])\"\"\"\n",
    "    total = 0 \n",
    "    for l in range(N*c):\n",
    "        total -= BernPolyTilde(1, a*(l+v/p)/(N*c)-u/p)*(-BernPolyTilde(1,1/c*(l+v/p))+N*BernPolyTilde(1,(l+v/p)/(N*c)))\n",
    "    return total*12\n",
    "\n",
    "def log_betaHelper(table,x):\n",
    "    \"\"\"Finds discrete logarithm of x with base beta \"\"\"\n",
    "    for index in range(len(table)):\n",
    "        if (table[index]-x).valuation()>0:\n",
    "            return index\n",
    "    raise \"error\"\n",
    "\n",
    "def log_beta(a,c,p,beta,tau,N):\n",
    "    \"\"\"Returns log_beta\"\"\"\n",
    "    #Construct discrete logarithm table of beta\n",
    "    table = [1]\n",
    "    for i in range(1,p^2-1): \n",
    "        table.append(table[i-1]*beta)\n",
    "    #Calculate final value\n",
    "    total = 0\n",
    "    for u in range(p):\n",
    "        for v in range(p):\n",
    "            if u == 0 and v == 0:\n",
    "                pass\n",
    "            else:\n",
    "                total += log_betaHelper(table,T(u-v*tau))*rhsOfEqn44(a,c,u,v,p,N)\n",
    "    #Calculate remainder (mod p^2-1)\n",
    "    Zp2minus1 = Integers(p^2-1)\n",
    "    return int(Zp2minus1(total))\n",
    "\n",
    "# log_beta(32,2,p,beta,tau,N)"
   ]
  },
  {
   "cell_type": "markdown",
   "metadata": {},
   "source": [
    "**Step 3** Calculate log_p"
   ]
  },
  {
   "cell_type": "code",
   "execution_count": null,
   "metadata": {},
   "outputs": [],
   "source": [
    "def sumOfMeasures(i,p,a,c,N):\n",
    "    #finds the sum of measures u_bar_m(i+pZp)\n",
    "    total = 0\n",
    "    Modp = IntegerModRing(p)\n",
    "    for y in range(1,p):\n",
    "        for x in range(p):\n",
    "            if (x*(Modp(y)^-1)-i)%p == 0:\n",
    "                total += rhsOfEqn44(a,c,x,y,p,N)\n",
    "    return total\n",
    "\n",
    "def log_pHelper(tau,i,integral_i,integral_ii,integral_iii,integral_iv):\n",
    "    \"\"\"i is the basis m_i, which is [inf] - [i/N] in our case. \n",
    "    Returns integral in RHS of 45. Here x-y*tau replaces x-y*gamma^-1tau?\"\"\"\n",
    "    first = T(integral_i[i])\n",
    "    third = T(integral_iii[i])\n",
    "    second = 0 \n",
    "    for j in range(p):\n",
    "        #first part of eqn 36\n",
    "        second += log(tau-j)*sumOfMeasures(j,p,i,1,N)  \n",
    "        #second part of eqn 36\n",
    "        for n in range(1,M):\n",
    "            second -= T(integral_ii[(i,j,n)]/n)/(tau-j)^n\n",
    "    forth = 0 \n",
    "    for n in range(1,M):\n",
    "        #Should there be a /n here? \n",
    "        forth -= T(tau^n)*T(integral_iv[(i,n)]/n)\n",
    "    return first + second + third + forth\n",
    "\n",
    "# log_pHelper(tau_p,2,integral_i,integral_ii,integral_iii,integral_iv)\n",
    "\n",
    "def log_p(a,c,p,N,tau,integral_i,integral_ii,integral_iii,integral_iv):\n",
    "    gammas = getGammas(a,c*N)\n",
    "    #a_gamma,i can be assume to be 1 throughout, since we will iterate over all gammas\n",
    "    total = 0\n",
    "    for gamma in gammas[:-1]:\n",
    "        ga, gb, gc, gd = gamma.a, gamma.b, gamma.c, gamma.d \n",
    "        base = gamma.x\n",
    "        gammaInv_tau = (gd*tau-gb)/(-gc*tau+ga)\n",
    "        total += gamma.coeff*log_pHelper(gammaInv_tau,base,integral_i,integral_ii,integral_iii,integral_iv)\n",
    "    return total \n",
    "\n",
    "# log_p(48599,2820/5,p,N,tau,integral_i,integral_ii,integral_iii,integral_iv)"
   ]
  },
  {
   "cell_type": "markdown",
   "metadata": {},
   "source": [
    "**Step 4** Define u(alpha,tau)"
   ]
  },
  {
   "cell_type": "code",
   "execution_count": null,
   "metadata": {},
   "outputs": [],
   "source": [
    "def u_alpha_tau(a,c,p,N,tau,beta,integral_i,integral_ii,integral_iii,integral_iv): \n",
    "    exp = log_p(a,c,p,N,tau,integral_i,integral_ii,integral_iii,integral_iv).exp()\n",
    "    ord_p = order_p(p,N,a,c)\n",
    "    log_b = log_beta(a,c,p,beta,tau,N)\n",
    "    return T(p^ord_p) * beta^log_b * exp"
   ]
  },
  {
   "cell_type": "code",
   "execution_count": null,
   "metadata": {},
   "outputs": [],
   "source": []
  }
 ],
 "metadata": {
  "kernelspec": {
   "display_name": "SageMath 9.0",
   "language": "sage",
   "name": "sagemath"
  },
  "language_info": {
   "codemirror_mode": {
    "name": "ipython",
    "version": 3
   },
   "file_extension": ".py",
   "mimetype": "text/x-python",
   "name": "python",
   "nbconvert_exporter": "python",
   "pygments_lexer": "ipython3",
   "version": "3.7.3"
  }
 },
 "nbformat": 4,
 "nbformat_minor": 2
}
