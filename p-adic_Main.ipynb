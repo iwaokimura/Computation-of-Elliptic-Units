{
 "cells": [
  {
   "cell_type": "code",
   "execution_count": null,
   "metadata": {
    "scrolled": true
   },
   "outputs": [],
   "source": [
    "\"\"\"To initialize, specify:\n",
    "p: prime for the p-adic calculations.\n",
    "N: Defines the unit used for computation. In this code we implemented the units\n",
    "    N=4     - [4]-3[2]+2[1]\n",
    "    N=prime>3 - [N]-N[1]\n",
    "M: p-adic precision. Ideally this value is at least 100.\n",
    "\"\"\"\n",
    "p = 7\n",
    "N = 11\n",
    "M = 100\n",
    "\n",
    "%run Miscellaneous.ipynb\n",
    "S = Qp(p, prec = 2*M+1, type = 'capped-rel', print_mode = 'series')\t#Defines the padic ring of rationals, with specified precision.\n",
    "R.<y> = PowerSeriesRing(S, sparse=True)\t#Allows us to write polynomials in y with coefficients in S.\n",
    "\n",
    "integral_1, integral_2, integral_3, integral_4 = getIntegrals(p,N,M)"
   ]
  },
  {
   "cell_type": "code",
   "execution_count": null,
   "metadata": {
    "scrolled": true
   },
   "outputs": [],
   "source": [
    "%run Algo_4_3.ipynb    \n",
    "%run Miscellaneous.ipynb\n",
    "\"\"\"Find discriminants D such that (D/p)=-1, (D/N)=1, D=1(mod 4) when N is prime and =1(mod 8) when N=4\"\"\"\n",
    "Ds = getGoodDs(N,p,2000)\n",
    "# smallC = []\n",
    "# for D in Ds:\n",
    "#     gamtaus = getGamTau(D,N)\n",
    "#     small = True\n",
    "#     for pair in gamtaus:\n",
    "#         if pair[1][2] > 500000:\n",
    "#             small = False\n",
    "#     if small:\n",
    "#         smallC.append(D)\n",
    "# print(smallC)\n",
    "# Ds = [57, 93, 473, 793, 813, 897, 933]\n",
    "for D in Ds:\n",
    "    getPoly(D, N, integral_1, integral_2, integral_3, integral_4)\n",
    "\"\"\"Get the polynomials for a particular D\"\"\"\n",
    "# getPoly(1000, N, integral_1, integral_2, integral_3, integral_4)"
   ]
  },
  {
   "cell_type": "markdown",
   "metadata": {},
   "source": [
    "##### "
   ]
  },
  {
   "cell_type": "code",
   "execution_count": null,
   "metadata": {
    "scrolled": true
   },
   "outputs": [],
   "source": [
    "# D = 897\n",
    "# R.<x> = QQ[]\n",
    "# T.<sqrtD> = NumberField(x^2-D)\n",
    "# X = T['X'].gen()\n",
    "# U.<e> = T.extension(X^8 + (1416002374557/953674316406250*sqrtD + 2549757626558363/953674316406250)*X^7 + (56709030111424864533/4656612873077392578125*sqrtD + 51143699935554731498041/23283064365386962890625)*X^6 + (4935116278645813872967514931/90949470177292823791503906250*sqrtD - 11738117897361345671334368371/90949470177292823791503906250)*X^5 + (49988908282076855221482/582076609134674072265625*sqrtD + 20194839173657902218540251271234837892870036667292026781790498466/3552713678800500929355621337890625)*X^4 + (4935116278645813872967514931/90949470177292823791503906250*sqrtD - 11738117897361345671334368371/90949470177292823791503906250)*X^3 + (56709030111424864533/4656612873077392578125*sqrtD + 51143699935554731498041/23283064365386962890625)*X^2 + (1416002374557/953674316406250*sqrtD + 2549757626558363/953674316406250)*X + 1)\n",
    "# print(\"Relative discriminant is trivial:\", str(U.relative_discriminant()) == \"Fractional ideal (1)\")\n",
    "# print(\"Is a relative galois extension:\", U.is_galois_relative())\n",
    "# print(U.absolute_polynomial())\n",
    "# V.<Y> = NumberField(U.absolute_polynomial())\n",
    "# print(V.automorphisms())\n",
    "# print(U.galois_group(type=None))"
   ]
  },
  {
   "cell_type": "code",
   "execution_count": null,
   "metadata": {},
   "outputs": [],
   "source": []
  },
  {
   "cell_type": "code",
   "execution_count": null,
   "metadata": {},
   "outputs": [],
   "source": []
  }
 ],
 "metadata": {
  "kernelspec": {
   "display_name": "SageMath 9.0",
   "language": "sage",
   "name": "sagemath"
  },
  "language_info": {
   "codemirror_mode": {
    "name": "ipython",
    "version": 3
   },
   "file_extension": ".py",
   "mimetype": "text/x-python",
   "name": "python",
   "nbconvert_exporter": "python",
   "pygments_lexer": "ipython3",
   "version": "3.7.3"
  }
 },
 "nbformat": 4,
 "nbformat_minor": 2
}
