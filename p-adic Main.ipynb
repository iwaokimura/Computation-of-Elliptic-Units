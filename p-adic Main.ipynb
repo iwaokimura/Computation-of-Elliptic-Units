{
 "cells": [
  {
   "cell_type": "code",
   "execution_count": null,
   "metadata": {},
   "outputs": [],
   "source": [
    "p = 11\n",
    "N = 5\n",
    "M = 25\n",
    "\n",
    "%run Basis.ipynb\n",
    "%run Algo_4_2a.ipynb\n",
    "%run Algo_4_2b.ipynb\n",
    "%run Algo_4_3.ipynb\n",
    "\n",
    "#In the following we calculate all the auxilliary integrals. \n",
    "f = fEqnlogApprox35(p,M).polynomial()\n",
    "integral_ii = integral_ii_dict(p,N,M)\n",
    "integral_iv = integral_iv_dict(p,N,M)\n",
    "integral_iii = integral_iii_dict(f,p,N,M)\n",
    "integral_i = integral_i_dict(f,p,N,M)\n",
    "# print(integral_i)\n",
    "# print(integral_ii)\n",
    "# print(integral_iii)\n",
    "# print(integral_iv)"
   ]
  },
  {
   "cell_type": "code",
   "execution_count": null,
   "metadata": {},
   "outputs": [],
   "source": [
    "def GamTau(a, b, c): #returns matrix {[a, b], [c, d]} as array [a, b, c, d]\n",
    "    #where ax^2 + bxy + cy^2 is our Binary Quadratic Form\n",
    "    # tau = (-b +sqrt(D))/2a\n",
    "    from sympy.solvers.diophantine  import diop_quadratic\n",
    "    from sympy import symbols\n",
    "    x, y, = symbols(\"x, y\", integer=True)\n",
    "    Disc = b**2 - 4*a*c\n",
    "    sols = diop_quadratic(x**2 - Disc*y**2 - 1, 0)\n",
    "    first = sols.pop()\n",
    "    u = abs(first[0])\n",
    "    if(u + first[1]*sqrt(Disc) < 1 or u - first[1]*sqrt(Disc) < 0):\n",
    "        v = - first[1]\n",
    "    else:\n",
    "        v = first[1]\n",
    "\n",
    "    #Let our matrix Gamma_Tau be GamA, GamB, GamC, GamD\n",
    "    \n",
    "    #solve u + v*sqrt(D) = GamC * tau + GamD\n",
    "    GamC = 2*a*v\n",
    "    GamD = u + b*v\n",
    "    \n",
    "    #solve GamA*tau + GamB = (GamC*tau + GamD) * tau. Easier to use GamC*tau + GamD = u+v*sqrt(D)\n",
    "    GamA = u - b*v\n",
    "    GamB = (v*Disc - (b**2)*v)/(2*a)\n",
    "    \n",
    "    return [GamA, GamB, GamC, GamD]\n",
    "GamTau(5,11,-2)"
   ]
  },
  {
   "cell_type": "code",
   "execution_count": null,
   "metadata": {},
   "outputs": [],
   "source": [
    "S = Qp(p, prec = M+1, type = 'capped-rel', print_mode = 'series')\t#Defines the padic ring of rationals, with specified precision.\n",
    "R.<y> = PowerSeriesRing(S)\t#Allows us to write polynomials in y with coefficients in S.\n",
    "\n",
    "D = 161\n",
    "#tau as element of Qp[sqrt d]\n",
    "Poly.<x> = S[]\n",
    "T.<d> = S.ext(x^2-D)\n",
    "# 5*x^2 + 11*x*y - 2*y^2\n",
    "tau = T(-11/10+d/10)\n",
    "beta = T.primitive_root_of_unity()"
   ]
  },
  {
   "cell_type": "code",
   "execution_count": null,
   "metadata": {},
   "outputs": [],
   "source": [
    "rep = u_alpha_tau(1567,928*2,p,N,tau,beta,integral_i,integral_ii,integral_iii,integral_iv)\n",
    "print(rep)"
   ]
  },
  {
   "cell_type": "code",
   "execution_count": null,
   "metadata": {},
   "outputs": [],
   "source": [
    "output = (x-rep)*(x-1/rep) \n",
    "print(output)\n",
    "output = output.coefficients()\n",
    "coeffs = []\n",
    "for out in output:\n",
    "    coeffs.append(out.polynomial().coefficients())\n",
    "    for t in out.polynomial().coefficients():\n",
    "        t = t \n",
    "        print(t.rational_reconstruction())\n"
   ]
  },
  {
   "cell_type": "code",
   "execution_count": null,
   "metadata": {},
   "outputs": [],
   "source": [
    "def getBQF(D,N):\n",
    "    \"\"\"\n",
    "    Given discriminant D and N, return BQF's forms such that N|a, a>0\n",
    "    Test case:\n",
    "    getBQF(161,5)\n",
    "    \"\"\"あ\n",
    "    BQF_N = []\n",
    "    for Q in BinaryQF_reduced_representatives(161):\n",
    "        a = Q(1,0)\n",
    "        if a < 0:\n",
    "            Q = Q.matrix_action_left(matrix([[0, 1],[-1, 0]]))\n",
    "            a = Q(1,0)\n",
    "            if a < 0:\n",
    "                raise NotImplemented\n",
    "\n",
    "        if a%N == 0:\n",
    "            #Found a valid form\n",
    "            if Q.content() > 1:\n",
    "                raise NotImplemented \n",
    "            BQF_N.append(Q)\n",
    "        else: \n",
    "            #Solve for x when y=1, so as to obtain a matrix to modify the BQF.\n",
    "            subQ = Q.polynomial()(y=1)\n",
    "            r = int(solve_mod([SR(subQ)], N)[0][0])\n",
    "            if r == 0:\n",
    "                r = N\n",
    "            Q_modified = Q.matrix_action_left(matrix([[r, 1],[-1, 0]]))\n",
    "            if Q_modified.content() > 1:\n",
    "                raise NotImplemented\n",
    "            BQF_N.append(Q_modified)\n",
    "    return BQF_N"
   ]
  },
  {
   "cell_type": "code",
   "execution_count": null,
   "metadata": {},
   "outputs": [],
   "source": [
    "print(integral_i)\n",
    "print(integral_ii)\n",
    "print(integral_iii)\n",
    "print(integral_iv)"
   ]
  }
 ],
 "metadata": {
  "kernelspec": {
   "display_name": "SageMath 9.0",
   "language": "sage",
   "name": "sagemath"
  }
 },
 "nbformat": 4,
 "nbformat_minor": 2
}
